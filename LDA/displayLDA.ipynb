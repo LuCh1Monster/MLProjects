{
 "cells": [
  {
   "cell_type": "code",
   "execution_count": null,
   "metadata": {
    "collapsed": true
   },
   "outputs": [],
   "source": [
    "import os\n",
    "import pyLDAvis\n",
    "import pyLDAvis.sklearn\n",
    "import jieba\n",
    "import pandas as pd\n",
    "from sklearn.decomposition import LatentDirichletAllocation\n",
    "from sklearn.feature_extraction.text import CountVectorizer\n",
    "\n",
    "base_dir = './data'\n",
    "files = sorted([os.path.join(base_dir, file) for file in os.listdir(base_dir) if file.endswith('.csv')])\n",
    "\n",
    "filename = files[0]\n",
    "df = pd.read_csv(filename)\n",
    "\n",
    "suggest_words = ['拍拍贷', '上海拍拍贷', '合肥拍拍贷', '长沙拍拍贷', '拍拍贷法务部']\n",
    "for word in suggest_words:\n",
    "    jieba.suggest_freq(word, True)\n",
    "\n",
    "df['content_cut_words'] = df['content'].map(lambda s: ' '.join(jieba.cut(s)))\n",
    "\n",
    "stopwords = []\n",
    "for word in open('stopwords.txt', encoding='utf8', mode='r'):\n",
    "    stopwords.append(word.strip())\n",
    "\n",
    "corpus = df['content_cut_words'].values\n",
    "\n",
    "n_features = 1000\n",
    "cntVector = CountVectorizer(strip_accents='unicode',\n",
    "                            stop_words=stopwords,\n",
    "                            max_features=n_features)\n",
    "cntTf = cntVector.fit_transform(corpus)\n",
    "featureNames = cntVector.get_feature_names()\n",
    "\n",
    "lda = LatentDirichletAllocation(n_components=5,\n",
    "                                learning_offset=50.,\n",
    "                                random_state=0,\n",
    "                                learning_method='batch')\n",
    "docres = lda.fit_transform(cntTf)\n",
    "\n",
    "for idx, topic in enumerate(lda.components_):\n",
    "    print('topic %s: ' % idx)\n",
    "    wordDist = sorted([(i, v) for i, v in enumerate(topic)], key=lambda x: x[1], reverse=True)\n",
    "    top10 = ' + ' .join([str(value) + '*' + featureNames[i] for (i, value) in wordDist[:10]])\n",
    "    print(top10)\n",
    "\n",
    "\n",
    "pyLDAvis.enable_notebook()\n",
    "pyLDAvis.sklearn.prepare(lda, cntTf, cntVector)\n",
    "data = pyLDAvis.sklearn.prepare(lda, cntTf, cntVector)\n",
    "pyLDAvis.show(data, open_browser=True)\n"
   ]
  }
 ],
 "metadata": {
  "kernelspec": {
   "display_name": "Python 2",
   "language": "python",
   "name": "python2"
  },
  "language_info": {
   "codemirror_mode": {
    "name": "ipython",
    "version": 2
   },
   "file_extension": ".py",
   "mimetype": "text/x-python",
   "name": "python",
   "nbconvert_exporter": "python",
   "pygments_lexer": "ipython2",
   "version": "2.7.6"
  }
 },
 "nbformat": 4,
 "nbformat_minor": 0
}
